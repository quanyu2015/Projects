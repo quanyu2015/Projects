{
 "cells": [
  {
   "cell_type": "markdown",
   "metadata": {},
   "source": [
    "The aim of this script is to extract article titles in Nature Journal (14 July 2016 issue). "
   ]
  },
  {
   "cell_type": "code",
   "execution_count": 1,
   "metadata": {
    "collapsed": true
   },
   "outputs": [],
   "source": [
    "# load modules\n",
    "\n",
    "from bs4 import BeautifulSoup\n",
    "import urllib2"
   ]
  },
  {
   "cell_type": "code",
   "execution_count": 2,
   "metadata": {
    "collapsed": true
   },
   "outputs": [],
   "source": [
    "url = \"http://www.nature.com/nature/current_issue.html\"\n",
    "# Or any issue you want\n",
    "# url = \"http://www.nature.com/nature/journal/v535/n7611/index.html\"\n",
    "\n",
    "content = urllib2.urlopen(url).read()\n",
    "soup = BeautifulSoup(content, \"lxml\")"
   ]
  },
  {
   "cell_type": "markdown",
   "metadata": {},
   "source": [
    "I'll print a part of HTML file extracted by BeautifulSoup."
   ]
  },
  {
   "cell_type": "code",
   "execution_count": 4,
   "metadata": {
    "collapsed": false
   },
   "outputs": [
    {
     "name": "stdout",
     "output_type": "stream",
     "text": [
      "117984\n",
      "!DOCTYPE html>\n",
      "<html class=\"no-javascript\" lang=\"en\" xml:lang=\"en\" xmlns=\"http://www.w3.org/1999/xhtml\">\n",
      " <head>\n",
      "  <meta charset=\"utf-8\"/>\n",
      "  <meta content=\"IE=edge\" http-equiv=\"X-UA-Compatible\"/>\n",
      "  <title>\n",
      "   Current Issue : Nature\n",
      "  </title>\n",
      "  <script type=\"text/javascript\">\n",
      "   <!--//--><![CDATA[//><!--\n",
      "\t\tdocument.getElementsByTagName('html')[0].className = 'js-enabled';\n",
      "\t\t//--><!]]>\n",
      "  </script>\n",
      "  <script src=\"//nexus.ensighten.com/npg/Bootstrap.js\" type=\"text/javascript\">\n",
      "  </script>\n",
      "  <meta content=\"Nature, science, science news, biology, physics, genetics, astronomy, astrophysics, quantum physics, evolution, evolutionary biology, geophysics, climate change, earth science, materials science, interdisciplinary science, science policy, medicine, systems biology, genomics, transcriptomics, palaeobiology, ecology, molecular biology, cancer, immunology, pharmacology, development, developmental biology, structural biology, biochemistry, bioinformatics, computational biology, nanotechnolo\n"
     ]
    }
   ],
   "source": [
    "print len(soup.prettify())\n",
    "print soup.prettify()[1:1000]"
   ]
  },
  {
   "cell_type": "markdown",
   "metadata": {},
   "source": [
    "Print article titles in the *Articles* and *Letters* section."
   ]
  },
  {
   "cell_type": "code",
   "execution_count": 5,
   "metadata": {
    "collapsed": false
   },
   "outputs": [
    {
     "name": "stdout",
     "output_type": "stream",
     "text": [
      "Phenological sensitivity to climate across taxa and trophic levels\n",
      "Multiple mechanisms disrupt the let-7 microRNA family in neuroblastoma\n",
      "A novel cereblon modulator recruits GSPT1 to the CRL4CRBN ubiquitin ligase\n",
      "Imaging the water snow-line during a protostellar outburst\n",
      "A sensitive electrometer based on a Rydberg atom in a Schrödinger-cat state\n",
      "Transport evidence for Fermi-arc-mediated chirality transfer in the Dirac semimetal Cd3As2\n",
      "Self-assembly of graphene ribbons by spontaneous self-tearing and peeling from a substrate\n",
      "Mid-ocean-ridge seismicity reveals extreme types of ocean lithosphere\n",
      "Molecular logic behind the three-way stochastic choices that expand butterfly colour vision\n",
      "Dissociated functional significance of decision-related activity in the primate dorsal stream\n",
      "Resolving early mesoderm diversification through single-cell expression profiling\n",
      "Cloche is a bHLH-PAS transcription factor that drives haemato-vascular specification\n",
      "Early myeloid lineage choice is not initiated by random PU.1 to GATA1 protein ratios\n",
      "TTC39B deficiency stabilizes LXR reducing both atherosclerosis and steatohepatitis\n",
      "Ki-67 acts as a biological surfactant to disperse mitotic chromosomes\n"
     ]
    }
   ],
   "source": [
    "for tag in soup.find_all(\"section\"):\n",
    "    if tag.find(\"span\"):\n",
    "        if tag.span.string in {\"Articles\", \"Letters\"}:\n",
    "             for t2 in tag.find_all(\"article\"):\n",
    "                    print t2.a.text"
   ]
  },
  {
   "cell_type": "markdown",
   "metadata": {},
   "source": [
    "Analizing word freqencies which may imply research hotspots. (To be continued ...)"
   ]
  }
 ],
 "metadata": {
  "kernelspec": {
   "display_name": "Python 2",
   "language": "python",
   "name": "python2"
  },
  "language_info": {
   "codemirror_mode": {
    "name": "ipython",
    "version": 2
   },
   "file_extension": ".py",
   "mimetype": "text/x-python",
   "name": "python",
   "nbconvert_exporter": "python",
   "pygments_lexer": "ipython2",
   "version": "2.7.11"
  }
 },
 "nbformat": 4,
 "nbformat_minor": 0
}
